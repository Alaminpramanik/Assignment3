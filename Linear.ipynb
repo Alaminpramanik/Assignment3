{
 "cells": [
  {
   "cell_type": "code",
   "execution_count": 2,
   "metadata": {},
   "outputs": [
    {
     "name": "stdout",
     "output_type": "stream",
     "text": [
      "Slope: [[2.93655106]]\n",
      "Intercept: [2.55808002]\n",
      "Root mean squared error:  0.07623324582875009\n",
      "R2 score:  0.9038655568672764\n"
     ]
    },
    {
     "data": {
      "image/png": "[encoded data removed]",
      "text/plain": [
       "<Figure size 432x288 with 1 Axes>"
      ]
     },
     "metadata": {
      "needs_background": "light"
     },
     "output_type": "display_data"
    }
   ],
   "source": [
    "# imports\n",
    "import numpy as np\n",
    "import matplotlib.pyplot as plt\n",
    "from sklearn.linear_model import LinearRegression\n",
    "from sklearn.metrics import mean_squared_error, r2_score\n",
    "\n",
    "# generate random data-set\n",
    "np.random.seed(0)\n",
    "x = np.random.rand(100, 1)\n",
    "y = 2 + 3 * x + np.random.rand(100, 1)\n",
    "\n",
    "# sckit-learn implementation\n",
    "\n",
    "# Model initialization\n",
    "regression_model = LinearRegression()\n",
    "# Fit the data(train the model)\n",
    "regression_model.fit(x, y)\n",
    "# Predict\n",
    "y_predicted = regression_model.predict(x)\n",
    "\n",
    "# model evaluation\n",
    "rmse = mean_squared_error(y, y_predicted)\n",
    "r2 = r2_score(y, y_predicted)\n",
    "\n",
    "# printing values\n",
    "print('Slope:' ,regression_model.coef_)\n",
    "print('Intercept:', regression_model.intercept_)\n",
    "print('Root mean squared error: ', rmse)\n",
    "print('R2 score: ', r2)\n",
    "\n",
    "# plotting values\n",
    "\n",
    "# data points\n",
    "plt.scatter(x, y, s=10)\n",
    "plt.xlabel('x')\n",
    "plt.ylabel('y')\n",
    "\n",
    "# predicted values\n",
    "plt.plot(x, y_predicted, color='r')\n",
    "plt.show()"
   ]
  },
  {
   "cell_type": "code",
   "execution_count": null,
   "metadata": {},
   "outputs": [],
   "source": []
  }
 ],
 "metadata": {
  "kernelspec": {
   "display_name": "Python 3",
   "language": "python",
   "name": "python3"
  },
  "language_info": {
   "codemirror_mode": {
    "name": "ipython",
    "version": 3
   },
   "file_extension": ".py",
   "mimetype": "text/x-python",
   "name": "python",
   "nbconvert_exporter": "python",
   "pygments_lexer": "ipython3",
   "version": "3.7.3"
  }
 },
 "nbformat": 4,
 "nbformat_minor": 2
}
